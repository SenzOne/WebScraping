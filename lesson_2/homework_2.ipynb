{
 "cells": [
  {
   "cell_type": "code",
   "execution_count": 5,
   "outputs": [],
   "source": [
    "# Получившийся список должен содержать в себе минимум:\n",
    "#\n",
    "# 1) Наименование вакансии.\n",
    "# 2) Предлагаемую зарплату (отдельно минимальную и максимальную; дополнительно - собрать валюту;\n",
    "#    можно использовать regexp или if'ы).\n",
    "# 3) Ссылку на саму вакансию.\n",
    "# 4) Сайт, откуда собрана вакансия.\n",
    "# По желанию можно добавить ещё параметры вакансии (например, работодателя и расположение).\n",
    "# Структура должна быть одинаковая для вакансий с обоих сайтов. Сохраните результат в json-файл"
   ],
   "metadata": {
    "collapsed": false,
    "pycharm": {
     "name": "#%%\n"
    }
   }
  },
  {
   "cell_type": "code",
   "execution_count": 6,
   "outputs": [],
   "source": [
    "import requests\n",
    "from bs4 import BeautifulSoup\n",
    "from dataclasses import dataclass\n",
    "import pandas as pd\n",
    "from time import sleep"
   ],
   "metadata": {
    "collapsed": false,
    "pycharm": {
     "name": "#%%\n"
    }
   }
  },
  {
   "cell_type": "code",
   "execution_count": 24,
   "outputs": [
    {
     "name": "stdout",
     "output_type": "stream",
     "text": [
      "Обработка страницы 1\n",
      "Обработка страницы 2\n",
      "Обработка страницы 3\n"
     ]
    }
   ],
   "source": [
    "# https://hh.ru/search/vacancy?area=1&fromSearchLine=true&text=Python&from=suggest_post&page=1&hhtmFrom=vacancy_search_list\n",
    "\n",
    "@dataclass\n",
    "class Vacancy:\n",
    "    name = str\n",
    "    domain = str\n",
    "    salary = str\n",
    "    min_salary = int\n",
    "    max_salary = int\n",
    "    currency = str\n",
    "    site = str\n",
    "\n",
    "\n",
    "    def get_salary_hh(self, salary_str):\n",
    "        # self.salary = salary_str.replace('\\u202f', '')\n",
    "        self.currency = salary_str.split()[-1]\n",
    "        if salary_str.find('–') != -1:\n",
    "            self.min_salary = int(salary_str.replace('\\u202f', '').split()[0])\n",
    "            self.max_salary = int(salary_str.replace('\\u202f', '').split()[2])\n",
    "        elif salary_str.find('от') != -1:\n",
    "            self.min_salary = int(salary_str.replace('\\u202f', '').split()[1])\n",
    "            self.max_salary = None\n",
    "        elif salary_str.find('до') != -1:\n",
    "            self.min_salary = None\n",
    "            self.max_salary = int(salary_str.replace('\\u202f', '').split()[1])\n",
    "        else:\n",
    "            self.min_salary = None\n",
    "\n",
    "\n",
    "class VacancyList:\n",
    "    headers = {\n",
    "        'User-Agent': 'Mozilla/5.0 (X11; Linux x86_64) AppleWebKit/537.36 (HTML, like Gecko) Chrome/97.0.4692.71 '\n",
    "                      'Safari/537.36'}\n",
    "\n",
    "    def __init__(self, vacancy_text, page=2):\n",
    "        self.all_vacancy = []\n",
    "        self.vacancy_text = vacancy_text\n",
    "        self.page_count = page\n",
    "        self.add_hh()\n",
    "\n",
    "    def add_vacancy(self, vacancy):\n",
    "        self.all_vacancy.append(vacancy)\n",
    "\n",
    "    def add_hh(self):\n",
    "        domain = 'https://hh.ru'\n",
    "        url = '/search/vacancy'\n",
    "        params_dict = {'clusters': 'true',\n",
    "                       'area': 1,\n",
    "                       'enable_snippets': 'true',\n",
    "                       'st': 'searchVacancy',\n",
    "                       'text': self.vacancy_text,\n",
    "                       'page': 0}\n",
    "\n",
    "        for page_count in range(0, self.page_count):\n",
    "            params_dict['page'] = page_count\n",
    "            response = requests.get(domain + url, params=params_dict, headers=self.headers)\n",
    "            dom = BeautifulSoup(response.text, 'html.parser')\n",
    "\n",
    "            card_list = dom.find_all('div', {'class': 'vacancy-serp-item'})\n",
    "\n",
    "            for card in card_list:\n",
    "                vacancy = Vacancy()\n",
    "                vacancy.site = 'hh.ru'\n",
    "                vacancy.name = card.find('a', {'data-qa': 'vacancy-serp__vacancy-title'}).text\n",
    "                vacancy.domain = domain\n",
    "                vacancy.link = card.find('a', {'data-qa': 'vacancy-serp__vacancy-title'})['href']\n",
    "\n",
    "                try:\n",
    "                    salary = card.find('span', {'data-qa': 'vacancy-serp__vacancy-compensation'}).text\n",
    "                    vacancy.get_salary_hh(salary)\n",
    "\n",
    "                except AttributeError:\n",
    "                    vacancy.salary = None\n",
    "                    vacancy.min_salary = None\n",
    "                    vacancy.max_salary = None\n",
    "                    vacancy.currency = None\n",
    "\n",
    "                self.all_vacancy.append(vacancy)\n",
    "            print(f'Обработка страницы {page_count + 1}')\n",
    "            sleep(1)\n",
    "\n",
    "\n",
    "final_list = VacancyList(vacancy_text='Data scientist', page=3)\n",
    "\n",
    "vac_data = []\n",
    "for vacancy in final_list.all_vacancy:\n",
    "    vacancy_dict = {'name': vacancy.name,\n",
    "                    # 'site': vacancy.site,\n",
    "                    'link': vacancy.link,\n",
    "                    'max_salary': vacancy.max_salary,\n",
    "                    'min_salary': vacancy.min_salary,\n",
    "                    'currency': vacancy.currency\n",
    "                    }\n",
    "\n",
    "    vac_data.append(vacancy_dict)\n",
    "\n",
    "df = pd.DataFrame(vac_data)\n",
    "\n"
   ],
   "metadata": {
    "collapsed": false,
    "pycharm": {
     "name": "#%%\n"
    }
   }
  },
  {
   "cell_type": "code",
   "execution_count": 25,
   "outputs": [
    {
     "data": {
      "text/plain": "                                                 name  \\\n0   Data Scientist / специалист по распознаванию и...   \n1             Senior Data scientist (Computer Vision)   \n2                                      Data scientist   \n3                 Senior Analytics & Insights Manager   \n4        Junior Data scientist/ Младший риск-аналитик   \n5                                      Data Scientist   \n6                                      Data scientist   \n7                                      Data scientist   \n8                                      Data Scientist   \n9                    Data scientist / Product analyst   \n10                                     Data Scientist   \n11  Специалист по машинному обучению / data scientist   \n12                                     Data Scientist   \n13  Data Scientist (аналитик данных в области упра...   \n14                           Data Scientist (DS SWAT)   \n15                    Data scientist / ML разработчик   \n16  Специалист по компьютерному зрению (CV) / Data...   \n17        Data engineer/ Инженер по данным (удаленно)   \n18            Data Scientist / Deep learning Engineer   \n19                                     Data Scientist   \n20            Middle Data Scientist (Computer Vision)   \n21                              Senior Data Scientist   \n22                                     Data Scientist   \n23                                     Data Scientist   \n24  Data scientist / Senior data scientist (Персон...   \n25            Data engineer/Инженер данных (удаленно)   \n26                     Data scientist (middle/senior)   \n27          Senior Research Engineer / Data Scientist   \n28                                     Data Scientist   \n29                  Senior Data Scientist (Antifraud)   \n30                Data Scientist (Research Scientist)   \n31                                     Data Scientist   \n32                 Middle Data Scientist/Data Analyst   \n33  Ведущий аналитик/Senior data Scientist/Data An...   \n34                         IT Expert - Data Architect   \n35                              Senior Data Scientist   \n36                     Data Scientist (middle/senior)   \n37  Биоинформатик / Data scientist (тематика - онк...   \n38                     Риск-Аналитик (Data scientist)   \n39                              Senior Data scientist   \n40   Data Scientist (Внешнеэкономическое партнерство)   \n41                        Data Scientist/Data Analyst   \n42            Data Analyst (Amazon) / Аналитик данных   \n43                  Senior Data Scientist (Antifraud)   \n44           Руководитель направления data governance   \n45                                      Data Engineer   \n46                   Senior Data Scientist (Big Data)   \n47                                Lead Data Scientist   \n48          Senior Research Engineer / Data Scientist   \n49                           Data Scientist (Predict)   \n50  Data scientist (Департамент по работе с пробле...   \n51                                     Data Scientist   \n52                                     Data Scientist   \n53                     Lead data scientist (Антифрод)   \n54                      Data Scientist Middle/Middle+   \n55                              Senior Data scientist   \n56   Middle data scientist (Рекомендательные системы)   \n57                             Data Engineer (Middle)   \n58                              Senior data scientist   \n59                              Data Scientist в Сбер   \n\n                                                 link  max_salary  min_salary  \\\n0   https://samara.hh.ru/vacancy/53427577?from=vac...         NaN    100000.0   \n1   https://samara.hh.ru/vacancy/47357797?from=vac...         NaN         NaN   \n2   https://samara.hh.ru/vacancy/53215762?from=vac...         NaN         NaN   \n3   https://samara.hh.ru/vacancy/51860512?from=vac...         NaN         NaN   \n4   https://samara.hh.ru/vacancy/53211742?from=vac...         NaN         NaN   \n5   https://samara.hh.ru/vacancy/53409941?from=vac...      5000.0      4000.0   \n6   https://samara.hh.ru/vacancy/52625579?from=vac...    220000.0    150000.0   \n7   https://samara.hh.ru/vacancy/53092406?from=vac...         NaN    300000.0   \n8   https://samara.hh.ru/vacancy/49423067?from=vac...    320000.0         NaN   \n9   https://samara.hh.ru/vacancy/52276251?from=vac...    250000.0    200000.0   \n10  https://samara.hh.ru/vacancy/50736774?from=vac...         NaN    250000.0   \n11  https://samara.hh.ru/vacancy/52627493?from=vac...         NaN         NaN   \n12  https://samara.hh.ru/vacancy/52475275?from=vac...         NaN         NaN   \n13  https://samara.hh.ru/vacancy/52264939?from=vac...         NaN         NaN   \n14  https://samara.hh.ru/vacancy/53421862?from=vac...         NaN         NaN   \n15  https://samara.hh.ru/vacancy/52408263?from=vac...         NaN         NaN   \n16  https://samara.hh.ru/vacancy/52505890?from=vac...    160000.0    130000.0   \n17  https://samara.hh.ru/vacancy/50138376?from=vac...         NaN    200000.0   \n18  https://samara.hh.ru/vacancy/53416744?from=vac...         NaN         NaN   \n19  https://samara.hh.ru/vacancy/48090484?from=vac...         NaN         NaN   \n20  https://samara.hh.ru/vacancy/52244147?from=vac...         NaN         NaN   \n21  https://samara.hh.ru/vacancy/53377877?from=vac...         NaN         NaN   \n22  https://samara.hh.ru/vacancy/52435919?from=vac...         NaN         NaN   \n23  https://samara.hh.ru/vacancy/52120886?from=vac...         NaN         NaN   \n24  https://samara.hh.ru/vacancy/47771885?from=vac...         NaN         NaN   \n25  https://samara.hh.ru/vacancy/52468115?from=vac...         NaN         NaN   \n26  https://samara.hh.ru/vacancy/51812421?from=vac...         NaN         NaN   \n27  https://samara.hh.ru/vacancy/50996908?from=vac...         NaN         NaN   \n28  https://samara.hh.ru/vacancy/52088272?from=vac...         NaN         NaN   \n29  https://samara.hh.ru/vacancy/52243388?from=vac...         NaN         NaN   \n30  https://samara.hh.ru/vacancy/53413786?from=vac...         NaN         NaN   \n31  https://samara.hh.ru/vacancy/49274814?from=vac...         NaN         NaN   \n32  https://samara.hh.ru/vacancy/52305783?from=vac...         NaN         NaN   \n33  https://samara.hh.ru/vacancy/50981618?from=vac...         NaN         NaN   \n34  https://samara.hh.ru/vacancy/52818313?from=vac...    387600.0    310100.0   \n35  https://samara.hh.ru/vacancy/52563632?from=vac...    300000.0    200000.0   \n36  https://samara.hh.ru/vacancy/52055303?from=vac...         NaN         NaN   \n37  https://samara.hh.ru/vacancy/53275770?from=vac...         NaN         NaN   \n38  https://samara.hh.ru/vacancy/51710019?from=vac...         NaN         NaN   \n39  https://samara.hh.ru/vacancy/52004366?from=vac...         NaN         NaN   \n40  https://samara.hh.ru/vacancy/53258251?from=vac...         NaN         NaN   \n41  https://samara.hh.ru/vacancy/47586416?from=vac...         NaN         NaN   \n42  https://samara.hh.ru/vacancy/52895649?from=vac...         NaN         NaN   \n43  https://samara.hh.ru/vacancy/52243388?from=vac...         NaN         NaN   \n44  https://samara.hh.ru/vacancy/51990894?from=vac...         NaN         NaN   \n45  https://samara.hh.ru/vacancy/52599981?from=vac...         NaN         NaN   \n46  https://samara.hh.ru/vacancy/52322473?from=vac...         NaN         NaN   \n47  https://samara.hh.ru/vacancy/42493107?from=vac...    500000.0         NaN   \n48  https://samara.hh.ru/vacancy/50996908?from=vac...         NaN         NaN   \n49  https://samara.hh.ru/vacancy/53021364?from=vac...         NaN         NaN   \n50  https://samara.hh.ru/vacancy/53292714?from=vac...         NaN         NaN   \n51  https://samara.hh.ru/vacancy/48701267?from=vac...         NaN         NaN   \n52  https://samara.hh.ru/vacancy/50706460?from=vac...         NaN         NaN   \n53  https://samara.hh.ru/vacancy/53408077?from=vac...         NaN         NaN   \n54  https://samara.hh.ru/vacancy/50766728?from=vac...         NaN         NaN   \n55  https://samara.hh.ru/vacancy/52004366?from=vac...         NaN         NaN   \n56  https://samara.hh.ru/vacancy/46125724?from=vac...         NaN         NaN   \n57  https://samara.hh.ru/vacancy/51361120?from=vac...    350000.0    170000.0   \n58  https://samara.hh.ru/vacancy/53187288?from=vac...         NaN         NaN   \n59  https://samara.hh.ru/vacancy/51471424?from=vac...         NaN         NaN   \n\n   currency  \n0      руб.  \n1      None  \n2      None  \n3      None  \n4      None  \n5       EUR  \n6      руб.  \n7      руб.  \n8      руб.  \n9      руб.  \n10     руб.  \n11     None  \n12     None  \n13     None  \n14     None  \n15     None  \n16     руб.  \n17     руб.  \n18     None  \n19     None  \n20     None  \n21     None  \n22     None  \n23     None  \n24     None  \n25     None  \n26     None  \n27     None  \n28     None  \n29     None  \n30     None  \n31     None  \n32     None  \n33     None  \n34     руб.  \n35     руб.  \n36     None  \n37     None  \n38     None  \n39     None  \n40     None  \n41     None  \n42     None  \n43     None  \n44     None  \n45     None  \n46     None  \n47     руб.  \n48     None  \n49     None  \n50     None  \n51     None  \n52     None  \n53     None  \n54     None  \n55     None  \n56     None  \n57     руб.  \n58     None  \n59     None  ",
      "text/html": "<div>\n<style scoped>\n    .dataframe tbody tr th:only-of-type {\n        vertical-align: middle;\n    }\n\n    .dataframe tbody tr th {\n        vertical-align: top;\n    }\n\n    .dataframe thead th {\n        text-align: right;\n    }\n</style>\n<table border=\"1\" class=\"dataframe\">\n  <thead>\n    <tr style=\"text-align: right;\">\n      <th></th>\n      <th>name</th>\n      <th>link</th>\n      <th>max_salary</th>\n      <th>min_salary</th>\n      <th>currency</th>\n    </tr>\n  </thead>\n  <tbody>\n    <tr>\n      <th>0</th>\n      <td>Data Scientist / специалист по распознаванию и...</td>\n      <td>https://samara.hh.ru/vacancy/53427577?from=vac...</td>\n      <td>NaN</td>\n      <td>100000.0</td>\n      <td>руб.</td>\n    </tr>\n    <tr>\n      <th>1</th>\n      <td>Senior Data scientist (Computer Vision)</td>\n      <td>https://samara.hh.ru/vacancy/47357797?from=vac...</td>\n      <td>NaN</td>\n      <td>NaN</td>\n      <td>None</td>\n    </tr>\n    <tr>\n      <th>2</th>\n      <td>Data scientist</td>\n      <td>https://samara.hh.ru/vacancy/53215762?from=vac...</td>\n      <td>NaN</td>\n      <td>NaN</td>\n      <td>None</td>\n    </tr>\n    <tr>\n      <th>3</th>\n      <td>Senior Analytics &amp; Insights Manager</td>\n      <td>https://samara.hh.ru/vacancy/51860512?from=vac...</td>\n      <td>NaN</td>\n      <td>NaN</td>\n      <td>None</td>\n    </tr>\n    <tr>\n      <th>4</th>\n      <td>Junior Data scientist/ Младший риск-аналитик</td>\n      <td>https://samara.hh.ru/vacancy/53211742?from=vac...</td>\n      <td>NaN</td>\n      <td>NaN</td>\n      <td>None</td>\n    </tr>\n    <tr>\n      <th>5</th>\n      <td>Data Scientist</td>\n      <td>https://samara.hh.ru/vacancy/53409941?from=vac...</td>\n      <td>5000.0</td>\n      <td>4000.0</td>\n      <td>EUR</td>\n    </tr>\n    <tr>\n      <th>6</th>\n      <td>Data scientist</td>\n      <td>https://samara.hh.ru/vacancy/52625579?from=vac...</td>\n      <td>220000.0</td>\n      <td>150000.0</td>\n      <td>руб.</td>\n    </tr>\n    <tr>\n      <th>7</th>\n      <td>Data scientist</td>\n      <td>https://samara.hh.ru/vacancy/53092406?from=vac...</td>\n      <td>NaN</td>\n      <td>300000.0</td>\n      <td>руб.</td>\n    </tr>\n    <tr>\n      <th>8</th>\n      <td>Data Scientist</td>\n      <td>https://samara.hh.ru/vacancy/49423067?from=vac...</td>\n      <td>320000.0</td>\n      <td>NaN</td>\n      <td>руб.</td>\n    </tr>\n    <tr>\n      <th>9</th>\n      <td>Data scientist / Product analyst</td>\n      <td>https://samara.hh.ru/vacancy/52276251?from=vac...</td>\n      <td>250000.0</td>\n      <td>200000.0</td>\n      <td>руб.</td>\n    </tr>\n    <tr>\n      <th>10</th>\n      <td>Data Scientist</td>\n      <td>https://samara.hh.ru/vacancy/50736774?from=vac...</td>\n      <td>NaN</td>\n      <td>250000.0</td>\n      <td>руб.</td>\n    </tr>\n    <tr>\n      <th>11</th>\n      <td>Специалист по машинному обучению / data scientist</td>\n      <td>https://samara.hh.ru/vacancy/52627493?from=vac...</td>\n      <td>NaN</td>\n      <td>NaN</td>\n      <td>None</td>\n    </tr>\n    <tr>\n      <th>12</th>\n      <td>Data Scientist</td>\n      <td>https://samara.hh.ru/vacancy/52475275?from=vac...</td>\n      <td>NaN</td>\n      <td>NaN</td>\n      <td>None</td>\n    </tr>\n    <tr>\n      <th>13</th>\n      <td>Data Scientist (аналитик данных в области упра...</td>\n      <td>https://samara.hh.ru/vacancy/52264939?from=vac...</td>\n      <td>NaN</td>\n      <td>NaN</td>\n      <td>None</td>\n    </tr>\n    <tr>\n      <th>14</th>\n      <td>Data Scientist (DS SWAT)</td>\n      <td>https://samara.hh.ru/vacancy/53421862?from=vac...</td>\n      <td>NaN</td>\n      <td>NaN</td>\n      <td>None</td>\n    </tr>\n    <tr>\n      <th>15</th>\n      <td>Data scientist / ML разработчик</td>\n      <td>https://samara.hh.ru/vacancy/52408263?from=vac...</td>\n      <td>NaN</td>\n      <td>NaN</td>\n      <td>None</td>\n    </tr>\n    <tr>\n      <th>16</th>\n      <td>Специалист по компьютерному зрению (CV) / Data...</td>\n      <td>https://samara.hh.ru/vacancy/52505890?from=vac...</td>\n      <td>160000.0</td>\n      <td>130000.0</td>\n      <td>руб.</td>\n    </tr>\n    <tr>\n      <th>17</th>\n      <td>Data engineer/ Инженер по данным (удаленно)</td>\n      <td>https://samara.hh.ru/vacancy/50138376?from=vac...</td>\n      <td>NaN</td>\n      <td>200000.0</td>\n      <td>руб.</td>\n    </tr>\n    <tr>\n      <th>18</th>\n      <td>Data Scientist / Deep learning Engineer</td>\n      <td>https://samara.hh.ru/vacancy/53416744?from=vac...</td>\n      <td>NaN</td>\n      <td>NaN</td>\n      <td>None</td>\n    </tr>\n    <tr>\n      <th>19</th>\n      <td>Data Scientist</td>\n      <td>https://samara.hh.ru/vacancy/48090484?from=vac...</td>\n      <td>NaN</td>\n      <td>NaN</td>\n      <td>None</td>\n    </tr>\n    <tr>\n      <th>20</th>\n      <td>Middle Data Scientist (Computer Vision)</td>\n      <td>https://samara.hh.ru/vacancy/52244147?from=vac...</td>\n      <td>NaN</td>\n      <td>NaN</td>\n      <td>None</td>\n    </tr>\n    <tr>\n      <th>21</th>\n      <td>Senior Data Scientist</td>\n      <td>https://samara.hh.ru/vacancy/53377877?from=vac...</td>\n      <td>NaN</td>\n      <td>NaN</td>\n      <td>None</td>\n    </tr>\n    <tr>\n      <th>22</th>\n      <td>Data Scientist</td>\n      <td>https://samara.hh.ru/vacancy/52435919?from=vac...</td>\n      <td>NaN</td>\n      <td>NaN</td>\n      <td>None</td>\n    </tr>\n    <tr>\n      <th>23</th>\n      <td>Data Scientist</td>\n      <td>https://samara.hh.ru/vacancy/52120886?from=vac...</td>\n      <td>NaN</td>\n      <td>NaN</td>\n      <td>None</td>\n    </tr>\n    <tr>\n      <th>24</th>\n      <td>Data scientist / Senior data scientist (Персон...</td>\n      <td>https://samara.hh.ru/vacancy/47771885?from=vac...</td>\n      <td>NaN</td>\n      <td>NaN</td>\n      <td>None</td>\n    </tr>\n    <tr>\n      <th>25</th>\n      <td>Data engineer/Инженер данных (удаленно)</td>\n      <td>https://samara.hh.ru/vacancy/52468115?from=vac...</td>\n      <td>NaN</td>\n      <td>NaN</td>\n      <td>None</td>\n    </tr>\n    <tr>\n      <th>26</th>\n      <td>Data scientist (middle/senior)</td>\n      <td>https://samara.hh.ru/vacancy/51812421?from=vac...</td>\n      <td>NaN</td>\n      <td>NaN</td>\n      <td>None</td>\n    </tr>\n    <tr>\n      <th>27</th>\n      <td>Senior Research Engineer / Data Scientist</td>\n      <td>https://samara.hh.ru/vacancy/50996908?from=vac...</td>\n      <td>NaN</td>\n      <td>NaN</td>\n      <td>None</td>\n    </tr>\n    <tr>\n      <th>28</th>\n      <td>Data Scientist</td>\n      <td>https://samara.hh.ru/vacancy/52088272?from=vac...</td>\n      <td>NaN</td>\n      <td>NaN</td>\n      <td>None</td>\n    </tr>\n    <tr>\n      <th>29</th>\n      <td>Senior Data Scientist (Antifraud)</td>\n      <td>https://samara.hh.ru/vacancy/52243388?from=vac...</td>\n      <td>NaN</td>\n      <td>NaN</td>\n      <td>None</td>\n    </tr>\n    <tr>\n      <th>30</th>\n      <td>Data Scientist (Research Scientist)</td>\n      <td>https://samara.hh.ru/vacancy/53413786?from=vac...</td>\n      <td>NaN</td>\n      <td>NaN</td>\n      <td>None</td>\n    </tr>\n    <tr>\n      <th>31</th>\n      <td>Data Scientist</td>\n      <td>https://samara.hh.ru/vacancy/49274814?from=vac...</td>\n      <td>NaN</td>\n      <td>NaN</td>\n      <td>None</td>\n    </tr>\n    <tr>\n      <th>32</th>\n      <td>Middle Data Scientist/Data Analyst</td>\n      <td>https://samara.hh.ru/vacancy/52305783?from=vac...</td>\n      <td>NaN</td>\n      <td>NaN</td>\n      <td>None</td>\n    </tr>\n    <tr>\n      <th>33</th>\n      <td>Ведущий аналитик/Senior data Scientist/Data An...</td>\n      <td>https://samara.hh.ru/vacancy/50981618?from=vac...</td>\n      <td>NaN</td>\n      <td>NaN</td>\n      <td>None</td>\n    </tr>\n    <tr>\n      <th>34</th>\n      <td>IT Expert - Data Architect</td>\n      <td>https://samara.hh.ru/vacancy/52818313?from=vac...</td>\n      <td>387600.0</td>\n      <td>310100.0</td>\n      <td>руб.</td>\n    </tr>\n    <tr>\n      <th>35</th>\n      <td>Senior Data Scientist</td>\n      <td>https://samara.hh.ru/vacancy/52563632?from=vac...</td>\n      <td>300000.0</td>\n      <td>200000.0</td>\n      <td>руб.</td>\n    </tr>\n    <tr>\n      <th>36</th>\n      <td>Data Scientist (middle/senior)</td>\n      <td>https://samara.hh.ru/vacancy/52055303?from=vac...</td>\n      <td>NaN</td>\n      <td>NaN</td>\n      <td>None</td>\n    </tr>\n    <tr>\n      <th>37</th>\n      <td>Биоинформатик / Data scientist (тематика - онк...</td>\n      <td>https://samara.hh.ru/vacancy/53275770?from=vac...</td>\n      <td>NaN</td>\n      <td>NaN</td>\n      <td>None</td>\n    </tr>\n    <tr>\n      <th>38</th>\n      <td>Риск-Аналитик (Data scientist)</td>\n      <td>https://samara.hh.ru/vacancy/51710019?from=vac...</td>\n      <td>NaN</td>\n      <td>NaN</td>\n      <td>None</td>\n    </tr>\n    <tr>\n      <th>39</th>\n      <td>Senior Data scientist</td>\n      <td>https://samara.hh.ru/vacancy/52004366?from=vac...</td>\n      <td>NaN</td>\n      <td>NaN</td>\n      <td>None</td>\n    </tr>\n    <tr>\n      <th>40</th>\n      <td>Data Scientist (Внешнеэкономическое партнерство)</td>\n      <td>https://samara.hh.ru/vacancy/53258251?from=vac...</td>\n      <td>NaN</td>\n      <td>NaN</td>\n      <td>None</td>\n    </tr>\n    <tr>\n      <th>41</th>\n      <td>Data Scientist/Data Analyst</td>\n      <td>https://samara.hh.ru/vacancy/47586416?from=vac...</td>\n      <td>NaN</td>\n      <td>NaN</td>\n      <td>None</td>\n    </tr>\n    <tr>\n      <th>42</th>\n      <td>Data Analyst (Amazon) / Аналитик данных</td>\n      <td>https://samara.hh.ru/vacancy/52895649?from=vac...</td>\n      <td>NaN</td>\n      <td>NaN</td>\n      <td>None</td>\n    </tr>\n    <tr>\n      <th>43</th>\n      <td>Senior Data Scientist (Antifraud)</td>\n      <td>https://samara.hh.ru/vacancy/52243388?from=vac...</td>\n      <td>NaN</td>\n      <td>NaN</td>\n      <td>None</td>\n    </tr>\n    <tr>\n      <th>44</th>\n      <td>Руководитель направления data governance</td>\n      <td>https://samara.hh.ru/vacancy/51990894?from=vac...</td>\n      <td>NaN</td>\n      <td>NaN</td>\n      <td>None</td>\n    </tr>\n    <tr>\n      <th>45</th>\n      <td>Data Engineer</td>\n      <td>https://samara.hh.ru/vacancy/52599981?from=vac...</td>\n      <td>NaN</td>\n      <td>NaN</td>\n      <td>None</td>\n    </tr>\n    <tr>\n      <th>46</th>\n      <td>Senior Data Scientist (Big Data)</td>\n      <td>https://samara.hh.ru/vacancy/52322473?from=vac...</td>\n      <td>NaN</td>\n      <td>NaN</td>\n      <td>None</td>\n    </tr>\n    <tr>\n      <th>47</th>\n      <td>Lead Data Scientist</td>\n      <td>https://samara.hh.ru/vacancy/42493107?from=vac...</td>\n      <td>500000.0</td>\n      <td>NaN</td>\n      <td>руб.</td>\n    </tr>\n    <tr>\n      <th>48</th>\n      <td>Senior Research Engineer / Data Scientist</td>\n      <td>https://samara.hh.ru/vacancy/50996908?from=vac...</td>\n      <td>NaN</td>\n      <td>NaN</td>\n      <td>None</td>\n    </tr>\n    <tr>\n      <th>49</th>\n      <td>Data Scientist (Predict)</td>\n      <td>https://samara.hh.ru/vacancy/53021364?from=vac...</td>\n      <td>NaN</td>\n      <td>NaN</td>\n      <td>None</td>\n    </tr>\n    <tr>\n      <th>50</th>\n      <td>Data scientist (Департамент по работе с пробле...</td>\n      <td>https://samara.hh.ru/vacancy/53292714?from=vac...</td>\n      <td>NaN</td>\n      <td>NaN</td>\n      <td>None</td>\n    </tr>\n    <tr>\n      <th>51</th>\n      <td>Data Scientist</td>\n      <td>https://samara.hh.ru/vacancy/48701267?from=vac...</td>\n      <td>NaN</td>\n      <td>NaN</td>\n      <td>None</td>\n    </tr>\n    <tr>\n      <th>52</th>\n      <td>Data Scientist</td>\n      <td>https://samara.hh.ru/vacancy/50706460?from=vac...</td>\n      <td>NaN</td>\n      <td>NaN</td>\n      <td>None</td>\n    </tr>\n    <tr>\n      <th>53</th>\n      <td>Lead data scientist (Антифрод)</td>\n      <td>https://samara.hh.ru/vacancy/53408077?from=vac...</td>\n      <td>NaN</td>\n      <td>NaN</td>\n      <td>None</td>\n    </tr>\n    <tr>\n      <th>54</th>\n      <td>Data Scientist Middle/Middle+</td>\n      <td>https://samara.hh.ru/vacancy/50766728?from=vac...</td>\n      <td>NaN</td>\n      <td>NaN</td>\n      <td>None</td>\n    </tr>\n    <tr>\n      <th>55</th>\n      <td>Senior Data scientist</td>\n      <td>https://samara.hh.ru/vacancy/52004366?from=vac...</td>\n      <td>NaN</td>\n      <td>NaN</td>\n      <td>None</td>\n    </tr>\n    <tr>\n      <th>56</th>\n      <td>Middle data scientist (Рекомендательные системы)</td>\n      <td>https://samara.hh.ru/vacancy/46125724?from=vac...</td>\n      <td>NaN</td>\n      <td>NaN</td>\n      <td>None</td>\n    </tr>\n    <tr>\n      <th>57</th>\n      <td>Data Engineer (Middle)</td>\n      <td>https://samara.hh.ru/vacancy/51361120?from=vac...</td>\n      <td>350000.0</td>\n      <td>170000.0</td>\n      <td>руб.</td>\n    </tr>\n    <tr>\n      <th>58</th>\n      <td>Senior data scientist</td>\n      <td>https://samara.hh.ru/vacancy/53187288?from=vac...</td>\n      <td>NaN</td>\n      <td>NaN</td>\n      <td>None</td>\n    </tr>\n    <tr>\n      <th>59</th>\n      <td>Data Scientist в Сбер</td>\n      <td>https://samara.hh.ru/vacancy/51471424?from=vac...</td>\n      <td>NaN</td>\n      <td>NaN</td>\n      <td>None</td>\n    </tr>\n  </tbody>\n</table>\n</div>"
     },
     "execution_count": 25,
     "metadata": {},
     "output_type": "execute_result"
    }
   ],
   "source": [
    "df = pd.DataFrame(vac_data)\n",
    "df"
   ],
   "metadata": {
    "collapsed": false,
    "pycharm": {
     "name": "#%%\n"
    }
   }
  },
  {
   "cell_type": "code",
   "execution_count": 22,
   "outputs": [],
   "source": [
    "df.to_csv('./vacancy_data.csv', index=False)"
   ],
   "metadata": {
    "collapsed": false,
    "pycharm": {
     "name": "#%%\n"
    }
   }
  },
  {
   "cell_type": "code",
   "execution_count": 23,
   "outputs": [
    {
     "name": "stdout",
     "output_type": "stream",
     "text": [
      "get_salary_hh.py    homework_2.py       homework_2_2.py     vacancy_data.pkl\r\n",
      "homework_2.ipynb    homework_2_2.ipynb  vacancy_data.csv\r\n"
     ]
    }
   ],
   "source": [
    "%ls"
   ],
   "metadata": {
    "collapsed": false,
    "pycharm": {
     "name": "#%%\n"
    }
   }
  }
 ],
 "metadata": {
  "kernelspec": {
   "display_name": "Python 3",
   "language": "python",
   "name": "python3"
  },
  "language_info": {
   "codemirror_mode": {
    "name": "ipython",
    "version": 2
   },
   "file_extension": ".py",
   "mimetype": "text/x-python",
   "name": "python",
   "nbconvert_exporter": "python",
   "pygments_lexer": "ipython2",
   "version": "2.7.6"
  }
 },
 "nbformat": 4,
 "nbformat_minor": 0
}